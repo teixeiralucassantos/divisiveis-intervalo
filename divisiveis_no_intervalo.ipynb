{
  "nbformat": 4,
  "nbformat_minor": 0,
  "metadata": {
    "colab": {
      "provenance": []
    },
    "kernelspec": {
      "name": "python3",
      "display_name": "Python 3"
    },
    "language_info": {
      "name": "python"
    }
  },
  "cells": [
    {
      "cell_type": "code",
      "execution_count": null,
      "metadata": {
        "id": "PCuIH5YV3McC",
        "outputId": "0ebe3a84-81bf-45b4-bb46-c53ad625e797",
        "colab": {
          "base_uri": "https://localhost:8080/"
        }
      },
      "outputs": [
        {
          "output_type": "stream",
          "name": "stdout",
          "text": [
            "Existem 208791 números divisíveis por 7 ou 13 no intervalo de 1 a 1000000.\n"
          ]
        }
      ],
      "source": [
        "divisiveis_por_7_ou_13 = 0\n",
        "\n",
        "for i in range(1, 1000001):\n",
        "    if i % 7 == 0 or i % 13 == 0:\n",
        "        divisiveis_por_7_ou_13 += 1\n",
        "\n",
        "print(f\"Existem {divisiveis_por_7_ou_13} números divisíveis por 7 ou 13 no intervalo de 1 a 1000000.\")\n"
      ]
    }
  ]
}